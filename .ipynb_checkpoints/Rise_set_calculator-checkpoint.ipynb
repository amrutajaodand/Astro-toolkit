{
 "cells": [
  {
   "cell_type": "code",
   "execution_count": 15,
   "id": "bef38897",
   "metadata": {},
   "outputs": [
    {
     "ename": "ModuleNotFoundError",
     "evalue": "No module named 'astroplan'",
     "output_type": "error",
     "traceback": [
      "\u001b[0;31m---------------------------------------------------------------------------\u001b[0m",
      "\u001b[0;31mModuleNotFoundError\u001b[0m                       Traceback (most recent call last)",
      "\u001b[0;32m/var/folders/ss/lz367hgx60g5bvb3js_6xq3r0000gr/T/ipykernel_64574/1395700949.py\u001b[0m in \u001b[0;36m<module>\u001b[0;34m\u001b[0m\n\u001b[1;32m      6\u001b[0m \u001b[0;32mfrom\u001b[0m \u001b[0mastropy\u001b[0m\u001b[0;34m.\u001b[0m\u001b[0mcoordinates\u001b[0m \u001b[0;32mimport\u001b[0m \u001b[0mSkyCoord\u001b[0m\u001b[0;34m\u001b[0m\u001b[0;34m\u001b[0m\u001b[0m\n\u001b[1;32m      7\u001b[0m \u001b[0;32mfrom\u001b[0m \u001b[0mastropy\u001b[0m\u001b[0;34m.\u001b[0m\u001b[0mcoordinates\u001b[0m \u001b[0;32mimport\u001b[0m \u001b[0mEarthLocation\u001b[0m\u001b[0;34m\u001b[0m\u001b[0;34m\u001b[0m\u001b[0m\n\u001b[0;32m----> 8\u001b[0;31m \u001b[0;32mfrom\u001b[0m \u001b[0mastroplan\u001b[0m \u001b[0;32mimport\u001b[0m \u001b[0mObserver\u001b[0m\u001b[0;34m\u001b[0m\u001b[0;34m\u001b[0m\u001b[0m\n\u001b[0m",
      "\u001b[0;31mModuleNotFoundError\u001b[0m: No module named 'astroplan'"
     ]
    }
   ],
   "source": [
    "import numpy as np\n",
    "import scipy as sc\n",
    "import seaborn as sn \n",
    "import matplotlib.pyplot as plt\n",
    "from astropy import units as u\n",
    "from astropy.coordinates import SkyCoord\n",
    "from astropy.coordinates import EarthLocation\n",
    "from astroplan import Observer"
   ]
  },
  {
   "cell_type": "code",
   "execution_count": 14,
   "id": "90cf1fd1",
   "metadata": {},
   "outputs": [],
   "source": [
    "#lets design a rise, set calculator for any source based on location of the observer \n",
    "#For example we can start with Milky way rise and set time at Joshua Tree National Park \n",
    "\n",
    "#We will start looking for the RA and DEC of galactic plane \n",
    "Source_loc = SkyCoord('12h51m26.282s', '27d07m42.01s', frame='icrs')\n",
    "\n",
    "#Using Geodetic cordinates for any given place - you can also use of_site function to look for specific site\n",
    "Place_loc = EarthLocation.from_geodetic(-115.900650,33.881866)"
   ]
  },
  {
   "cell_type": "code",
   "execution_count": 8,
   "id": "ddfd2fdc",
   "metadata": {},
   "outputs": [
    {
     "data": {
      "text/latex": [
       "$192^\\circ51{}^\\prime34.23{}^{\\prime\\prime}$"
      ],
      "text/plain": [
       "<Longitude 192.85950833 deg>"
      ]
     },
     "execution_count": 8,
     "metadata": {},
     "output_type": "execute_result"
    }
   ],
   "source": []
  },
  {
   "cell_type": "code",
   "execution_count": null,
   "id": "c3ee6561",
   "metadata": {},
   "outputs": [],
   "source": []
  }
 ],
 "metadata": {
  "kernelspec": {
   "display_name": "Python 3 (ipykernel)",
   "language": "python",
   "name": "python3"
  },
  "language_info": {
   "codemirror_mode": {
    "name": "ipython",
    "version": 3
   },
   "file_extension": ".py",
   "mimetype": "text/x-python",
   "name": "python",
   "nbconvert_exporter": "python",
   "pygments_lexer": "ipython3",
   "version": "3.7.10"
  }
 },
 "nbformat": 4,
 "nbformat_minor": 5
}
