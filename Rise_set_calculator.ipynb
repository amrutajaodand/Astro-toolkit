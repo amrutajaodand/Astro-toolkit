{
 "cells": [
  {
   "cell_type": "code",
   "execution_count": 29,
   "id": "bef38897",
   "metadata": {},
   "outputs": [],
   "source": [
    "import numpy as np\n",
    "import scipy as sc\n",
    "import seaborn as sn \n",
    "import matplotlib.pyplot as plt\n",
    "from astropy import units as u\n",
    "from astropy.coordinates import SkyCoord\n",
    "from astropy.coordinates import EarthLocation\n",
    "from astroplan import Observer\n",
    "from timezonefinder import TimezoneFinder\n",
    "from datetime import datetime\n",
    "from pytz import timezone, utc\n",
    "from geopy.geocoders import Nominatim"
   ]
  },
  {
   "cell_type": "code",
   "execution_count": 33,
   "id": "cac4ab3b",
   "metadata": {},
   "outputs": [],
   "source": [
    "#Inputs: RA, Dec of the source and name of the place you wish to observe from \n",
    "#Paramerters format - ra (hms), dec (dms), name of the place (string)"
   ]
  },
  {
   "cell_type": "code",
   "execution_count": 31,
   "id": "90cf1fd1",
   "metadata": {},
   "outputs": [],
   "source": [
    "#lets design a rise, set calculator for any source based on location of the observer \n",
    "#For example we can start with Milky way rise and set time at Joshua Tree National Park \n",
    "\n",
    "#We will start looking for the RA and DEC of galactic plane \n",
    "Source_loc = SkyCoord('12h51m26.282s', '27d07m42.01s', frame='icrs')"
   ]
  },
  {
   "cell_type": "code",
   "execution_count": 34,
   "id": "b280c8a4",
   "metadata": {},
   "outputs": [
    {
     "name": "stdout",
     "output_type": "stream",
     "text": [
      "Location address: Joshua Tree\n",
      "Latitude and Longitude of the said address:\n",
      "(34.1265262, -116.32093491214893)\n"
     ]
    }
   ],
   "source": [
    "#Obtaining geo location (geodetic cordinates) based on name of the place we intend to be at for observing \n",
    "# initialize Nominatim API\n",
    "geolocator = Nominatim(user_agent=\"geoapiExercises\")\n",
    "  \n",
    "# input as a geek\n",
    "obs_loc_name = \"Joshua Tree\"\n",
    "print(\"Location address:\", obs_loc_name)\n",
    "  \n",
    "# getting Latitude and Longitude\n",
    "obs_coords = geolocator.geocode(obs_loc_name)\n",
    "  \n",
    "print(\"Latitude and Longitude of the said address:\")\n",
    "print((obs_coords.latitude, obs_coords.longitude))"
   ]
  },
  {
   "cell_type": "code",
   "execution_count": 45,
   "id": "c3ee6561",
   "metadata": {},
   "outputs": [
    {
     "name": "stdout",
     "output_type": "stream",
     "text": [
      "-8.0\n"
     ]
    }
   ],
   "source": [
    "#Calculating UTC timezone offset for the location \n",
    "\n",
    "def get_offset(*, lat, lng):\n",
    "    \"\"\"\n",
    "    returns a location's time zone offset from UTC in hours.\"\"\"\n",
    "    \n",
    "    #First step we initialise the timzeone\n",
    "    tf = TimezoneFinder()\n",
    "    tf.timezone_at(lng=lng, lat=lat)\n",
    "    \n",
    "    #Set the datetime to now and then set the timezone object for the location \n",
    "    today = datetime.now()\n",
    "    tz_target = timezone(tf.certain_timezone_at(lng=lng, lat=lat))\n",
    "    \n",
    "    # ATTENTION: tz_target could be None! handle error case\n",
    "    \n",
    "    #Then localise the \n",
    "    today_target = tz_target.localize(today)\n",
    "    today_utc = utc.localize(today)\n",
    "    return (today_utc - today_target).total_seconds() / 3600\n",
    "\n",
    "\n",
    "observer = {\"lat\": obs_coords.latitude, \"lng\": obs_coords.longitude}\n",
    "hr_offset = get_offset(**observer)\n",
    "\n",
    "print(hr_offset)"
   ]
  },
  {
   "cell_type": "code",
   "execution_count": null,
   "id": "1b37d160",
   "metadata": {},
   "outputs": [],
   "source": []
  }
 ],
 "metadata": {
  "kernelspec": {
   "display_name": "Python 3 (ipykernel)",
   "language": "python",
   "name": "python3"
  },
  "language_info": {
   "codemirror_mode": {
    "name": "ipython",
    "version": 3
   },
   "file_extension": ".py",
   "mimetype": "text/x-python",
   "name": "python",
   "nbconvert_exporter": "python",
   "pygments_lexer": "ipython3",
   "version": "3.7.10"
  }
 },
 "nbformat": 4,
 "nbformat_minor": 5
}
